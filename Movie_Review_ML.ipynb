{
 "cells": [
  {
   "cell_type": "code",
   "execution_count": 1,
   "metadata": {
    "collapsed": true
   },
   "outputs": [],
   "source": [
    "import os\n",
    "import pandas as pd"
   ]
  },
  {
   "cell_type": "code",
   "execution_count": 2,
   "metadata": {
    "collapsed": false
   },
   "outputs": [],
   "source": [
    "base = '/home/vaibhav/aclImdb'\n",
    "labels = {'pos': 1, 'neg' : 0}\n",
    "df = pd.DataFrame()\n",
    "for folder in ('test', 'train'):\n",
    "    for filename in ('pos', 'neg'):\n",
    "        path = os.path.join(base, folder, filename)\n",
    "        for file in os.listdir(path):\n",
    "            with open(os.path.join(path, file), 'r') as infile:\n",
    "                txt = infile.read()\n",
    "            df = df.append([[txt, labels[filename]]], ignore_index=True)\n",
    "            \n",
    "df.columns = ['review', 'sentiment']"
   ]
  },
  {
   "cell_type": "code",
   "execution_count": 3,
   "metadata": {
    "collapsed": false
   },
   "outputs": [
    {
     "data": {
      "text/html": [
       "<div>\n",
       "<table border=\"1\" class=\"dataframe\">\n",
       "  <thead>\n",
       "    <tr style=\"text-align: right;\">\n",
       "      <th></th>\n",
       "      <th>review</th>\n",
       "      <th>sentiment</th>\n",
       "    </tr>\n",
       "  </thead>\n",
       "  <tbody>\n",
       "    <tr>\n",
       "      <th>0</th>\n",
       "      <td>I watch tons of movies and had no idea this wo...</td>\n",
       "      <td>1</td>\n",
       "    </tr>\n",
       "    <tr>\n",
       "      <th>1</th>\n",
       "      <td>Richard Norton really lights the screen up in ...</td>\n",
       "      <td>1</td>\n",
       "    </tr>\n",
       "    <tr>\n",
       "      <th>2</th>\n",
       "      <td>One of eastwood's best movies after he had sep...</td>\n",
       "      <td>1</td>\n",
       "    </tr>\n",
       "    <tr>\n",
       "      <th>3</th>\n",
       "      <td>The best bit in the film was when Alan pulled ...</td>\n",
       "      <td>1</td>\n",
       "    </tr>\n",
       "    <tr>\n",
       "      <th>4</th>\n",
       "      <td>Richard Schickel's 1991 documentary about Gary...</td>\n",
       "      <td>1</td>\n",
       "    </tr>\n",
       "  </tbody>\n",
       "</table>\n",
       "</div>"
      ],
      "text/plain": [
       "                                              review  sentiment\n",
       "0  I watch tons of movies and had no idea this wo...          1\n",
       "1  Richard Norton really lights the screen up in ...          1\n",
       "2  One of eastwood's best movies after he had sep...          1\n",
       "3  The best bit in the film was when Alan pulled ...          1\n",
       "4  Richard Schickel's 1991 documentary about Gary...          1"
      ]
     },
     "execution_count": 3,
     "metadata": {},
     "output_type": "execute_result"
    }
   ],
   "source": [
    "df.head(5)"
   ]
  },
  {
   "cell_type": "code",
   "execution_count": 4,
   "metadata": {
    "collapsed": true
   },
   "outputs": [],
   "source": [
    "#To reorder the index i.e. Randomize\n",
    "import numpy as np\n",
    "\n",
    "np.random.seed(0)\n",
    "df = df.reindex(np.random.permutation(df.index))"
   ]
  },
  {
   "cell_type": "code",
   "execution_count": 5,
   "metadata": {
    "collapsed": false
   },
   "outputs": [
    {
     "data": {
      "text/html": [
       "<div>\n",
       "<table border=\"1\" class=\"dataframe\">\n",
       "  <thead>\n",
       "    <tr style=\"text-align: right;\">\n",
       "      <th></th>\n",
       "      <th>review</th>\n",
       "      <th>sentiment</th>\n",
       "    </tr>\n",
       "  </thead>\n",
       "  <tbody>\n",
       "    <tr>\n",
       "      <th>11841</th>\n",
       "      <td>No one would ever question that director Leos ...</td>\n",
       "      <td>1</td>\n",
       "    </tr>\n",
       "    <tr>\n",
       "      <th>19602</th>\n",
       "      <td>Very odd, this seems like a very average movie...</td>\n",
       "      <td>0</td>\n",
       "    </tr>\n",
       "    <tr>\n",
       "      <th>45519</th>\n",
       "      <td>This is actually an insult to the victims and ...</td>\n",
       "      <td>0</td>\n",
       "    </tr>\n",
       "    <tr>\n",
       "      <th>25747</th>\n",
       "      <td>What does the Marquis de Sade have to do with ...</td>\n",
       "      <td>1</td>\n",
       "    </tr>\n",
       "    <tr>\n",
       "      <th>42642</th>\n",
       "      <td>Beyond dirt cheap, this shot-on-video exercise...</td>\n",
       "      <td>0</td>\n",
       "    </tr>\n",
       "  </tbody>\n",
       "</table>\n",
       "</div>"
      ],
      "text/plain": [
       "                                                  review  sentiment\n",
       "11841  No one would ever question that director Leos ...          1\n",
       "19602  Very odd, this seems like a very average movie...          0\n",
       "45519  This is actually an insult to the victims and ...          0\n",
       "25747  What does the Marquis de Sade have to do with ...          1\n",
       "42642  Beyond dirt cheap, this shot-on-video exercise...          0"
      ]
     },
     "execution_count": 5,
     "metadata": {},
     "output_type": "execute_result"
    }
   ],
   "source": [
    "df.head()"
   ]
  },
  {
   "cell_type": "code",
   "execution_count": 13,
   "metadata": {
    "collapsed": true
   },
   "outputs": [],
   "source": [
    "df.to_csv('movie_reviews.csv', index=False)"
   ]
  },
  {
   "cell_type": "code",
   "execution_count": 9,
   "metadata": {
    "collapsed": true
   },
   "outputs": [],
   "source": [
    "import re"
   ]
  },
  {
   "cell_type": "code",
   "execution_count": 6,
   "metadata": {
    "collapsed": false
   },
   "outputs": [],
   "source": [
    "import string"
   ]
  },
  {
   "cell_type": "code",
   "execution_count": 10,
   "metadata": {
    "collapsed": true
   },
   "outputs": [],
   "source": [
    "def text_process(text):\n",
    "    exclude = string.punctuation\n",
    "    text = re.sub('<[^>]*>', '', text)\n",
    "    text = ''.join(character for character in text.lower() if character not in exclude)\n",
    "    return text"
   ]
  },
  {
   "cell_type": "code",
   "execution_count": 11,
   "metadata": {
    "collapsed": true
   },
   "outputs": [],
   "source": [
    "df['review'] = df['review'].apply(text_process)"
   ]
  },
  {
   "cell_type": "code",
   "execution_count": 45,
   "metadata": {
    "collapsed": true
   },
   "outputs": [],
   "source": [
    "df.to_csv(\"clean_movie_review.csv\", index=False)"
   ]
  },
  {
   "cell_type": "code",
   "execution_count": 12,
   "metadata": {
    "collapsed": false
   },
   "outputs": [],
   "source": [
    "from nltk.corpus import stopwords\n",
    "from nltk.stem.porter import PorterStemmer\n",
    "def vect(text): \n",
    "    stemmer = PorterStemmer()\n",
    "    tokens = text.split()\n",
    "    tokens_filtered = [w for w in tokens if not w in stopwords.words('english')]\n",
    "    stems = [stemmer.stem(t) for t in tokens_filtered]\n",
    "    stems_nopunct = [s for s in stems if re.match('^[a-zA-Z]+$', s) is not None]\n",
    "    return (stems_nopunct)"
   ]
  },
  {
   "cell_type": "code",
   "execution_count": 35,
   "metadata": {
    "collapsed": false
   },
   "outputs": [],
   "source": [
    "from sklearn.feature_extraction.text import TfidfVectorizer\n",
    "tfidf = TfidfVectorizer(encoding='utf-8', decode_error='replace', \n",
    "                        smooth_idf = True,\n",
    "                        tokenizer = vect,\n",
    "                        ngram_range=(1,2),\n",
    "                        max_df=0.6,\n",
    "                        min_df=0.1)"
   ]
  },
  {
   "cell_type": "code",
   "execution_count": 19,
   "metadata": {
    "collapsed": false
   },
   "outputs": [
    {
     "data": {
      "text/plain": [
       "(10000, 2)"
      ]
     },
     "execution_count": 19,
     "metadata": {},
     "output_type": "execute_result"
    }
   ],
   "source": [
    "#Train Test split\n",
    "from sklearn.cross_validation import train_test_split\n",
    "train = df.sample(frac=0.8, random_state=1)\n",
    "test = df.loc[~df.index.isin(train.index)]\n",
    "train.shape\n",
    "test.shape"
   ]
  },
  {
   "cell_type": "code",
   "execution_count": 22,
   "metadata": {
    "collapsed": false
   },
   "outputs": [
    {
     "data": {
      "text/plain": [
       "TfidfVectorizer(analyzer=u'word', binary=False, decode_error='replace',\n",
       "        dtype=<type 'numpy.int64'>, encoding='utf-8', input=u'content',\n",
       "        lowercase=True, max_df=0.6, max_features=None, min_df=1,\n",
       "        ngram_range=(1, 2), norm=u'l2', preprocessor=None, smooth_idf=True,\n",
       "        stop_words=None, strip_accents=None, sublinear_tf=False,\n",
       "        token_pattern=u'(?u)\\\\b\\\\w\\\\w+\\\\b',\n",
       "        tokenizer=<function vect at 0x7fa1ddfb7668>, use_idf=True,\n",
       "        vocabulary=None)"
      ]
     },
     "execution_count": 22,
     "metadata": {},
     "output_type": "execute_result"
    }
   ],
   "source": [
    "tfidf"
   ]
  },
  {
   "cell_type": "code",
   "execution_count": 23,
   "metadata": {
    "collapsed": false,
    "scrolled": true
   },
   "outputs": [
    {
     "data": {
      "text/plain": [
       "<bound method DataFrame.describe of                                                   review  sentiment\n",
       "46198  the main problem with power is that it feature...          0\n",
       "12925  leave ed wood alone to call plan 9 from outer ...          0\n",
       "44852  i stopped watching this pos as soon as the sna...          0\n",
       "26174  a chance encounter between a salesman and a hi...          1\n",
       "23099  i really wanted to like this film especially a...          0\n",
       "29863  i just went to a screening of the film during ...          1\n",
       "15075  spoilersi hate this one but it is better than ...          0\n",
       "15670  i truly was disappointed by this film which i ...          0\n",
       "21166  i accidentally happened upon this movie when i...          0\n",
       "17543  i want to believe all new horror films coming ...          0\n",
       "13647  a time to kill is based on john grishams first...          0\n",
       "15011  corny and horrible i was not surprised this sh...          0\n",
       "4685   so the wwe has done it they have poured over i...          1\n",
       "44622  the sun was not shining it was too wet to play...          0\n",
       "47482  watching it lives by night makes you wonder ju...          0\n",
       "7242   in dramatising wildes novel john osborne has c...          1\n",
       "26313  everyone plays their part pretty well in this ...          1\n",
       "9643   great british director christopher nolan momen...          1\n",
       "11130  eager electronics whiz brian foster a likable ...          1\n",
       "6493   forget about donnie darko i open with this bec...          1\n",
       "38725  the motion picture was in all likelihood made ...          0\n",
       "32382  i didnt give this movie a perfect score in ord...          1\n",
       "29460  although this show has been off the air since ...          1\n",
       "23524  adored by fans for his unusually charming crea...          0\n",
       "18542  no redeeming features this film is rubbish its...          0\n",
       "17668  the core message is strong the cast has given ...          0\n",
       "9895   this movie is a real thriller it was exciting ...          1\n",
       "42859  greenaway seems to have a habit of trying deli...          0\n",
       "18479  woof pretty boring and they might as well have...          0\n",
       "21217  this movie was rented for free i had no miscon...          0\n",
       "...                                                  ...        ...\n",
       "31488  i really like this movie bozz is an ultracool ...          1\n",
       "33570  i have read the book and i must say that this ...          1\n",
       "36913  once in the life is a very good movie however ...          1\n",
       "46467  when thinking about captivity many words come ...          0\n",
       "15999  revenge of the zombies is a pretty weak and ba...          0\n",
       "2654   it was very refreshing to watch this beautiful...          1\n",
       "2657   annmargret did the best job she has ever done ...          1\n",
       "27996  richard widmark is a tainted character in this...          1\n",
       "15001  our story two us navy deep sea divers search f...          0\n",
       "10949  this is the best of the films so far that chri...          1\n",
       "10355  well im not about to add to the diatribe thats...          1\n",
       "22230  i rented a copy of this one from netflix  big ...          0\n",
       "2192   a very great moviea big love story lots of swo...          1\n",
       "22987  but its not the plot isnt all that bad the act...          0\n",
       "5018   spoilers buried under a mountain of medical bi...          1\n",
       "13982  this movie had terrible acting terrible plot a...          0\n",
       "43104  well this just maybe the worst movie ever at l...          0\n",
       "43113  takashi shimizu had a great opportunity with a...          0\n",
       "11907  rated tv14 for sexual content and languagei re...          1\n",
       "42489  as a cinema fan white noise was an utter disap...          0\n",
       "26884  finally we have before us a category iii movie...          1\n",
       "37059  what i like about spoilers teenager holly tyle...          1\n",
       "5032   i will always think of mr firth as dorian gray...          1\n",
       "11497  little dieter needs to fly was my first film d...          1\n",
       "49433  this movie was clearly done poorly and in a ru...          0\n",
       "5270   this movie gave me recurring nightmares with a...          1\n",
       "28048  this is a very very early bugs bunny cartoon a...          1\n",
       "10082  one of my favorite movies i like horses i like...          1\n",
       "38242  redundant everlasting shots useless shots usel...          0\n",
       "46819  gwyneth paltrow is absolutely great in this mo...          0\n",
       "\n",
       "[40000 rows x 2 columns]>"
      ]
     },
     "execution_count": 23,
     "metadata": {},
     "output_type": "execute_result"
    }
   ],
   "source": [
    "train.describe"
   ]
  },
  {
   "cell_type": "code",
   "execution_count": 30,
   "metadata": {
    "collapsed": true
   },
   "outputs": [],
   "source": [
    "import time"
   ]
  },
  {
   "cell_type": "code",
   "execution_count": 51,
   "metadata": {
    "collapsed": false
   },
   "outputs": [],
   "source": [
    "tfidf_train = tfidf.fit_transform(train.review)\n"
   ]
  },
  {
   "cell_type": "code",
   "execution_count": 52,
   "metadata": {
    "collapsed": false
   },
   "outputs": [],
   "source": [
    "tfidf_test = tfidf.transform(test.review)\n"
   ]
  },
  {
   "cell_type": "code",
   "execution_count": 53,
   "metadata": {
    "collapsed": false
   },
   "outputs": [
    {
     "data": {
      "text/plain": [
       "(40000, 140)"
      ]
     },
     "execution_count": 53,
     "metadata": {},
     "output_type": "execute_result"
    }
   ],
   "source": [
    "tfidf_train.shape"
   ]
  },
  {
   "cell_type": "code",
   "execution_count": 54,
   "metadata": {
    "collapsed": false
   },
   "outputs": [
    {
     "data": {
      "text/plain": [
       "(10000, 140)"
      ]
     },
     "execution_count": 54,
     "metadata": {},
     "output_type": "execute_result"
    }
   ],
   "source": [
    "tfidf_test.shape"
   ]
  },
  {
   "cell_type": "code",
   "execution_count": 42,
   "metadata": {
    "collapsed": false
   },
   "outputs": [
    {
     "data": {
      "text/plain": [
       "pandas.core.series.Series"
      ]
     },
     "execution_count": 42,
     "metadata": {},
     "output_type": "execute_result"
    }
   ],
   "source": [
    "type(train.sentiment)"
   ]
  },
  {
   "cell_type": "code",
   "execution_count": 55,
   "metadata": {
    "collapsed": false
   },
   "outputs": [
    {
     "data": {
      "text/plain": [
       "MultinomialNB(alpha=1.0, class_prior=None, fit_prior=True)"
      ]
     },
     "execution_count": 55,
     "metadata": {},
     "output_type": "execute_result"
    }
   ],
   "source": [
    "from sklearn.naive_bayes import MultinomialNB\n",
    "clf = MultinomialNB()\n",
    "clf.fit(tfidf_train.toarray(), train.sentiment)"
   ]
  },
  {
   "cell_type": "code",
   "execution_count": 56,
   "metadata": {
    "collapsed": false
   },
   "outputs": [],
   "source": [
    "pred = clf.predict(tfidf_test.toarray())"
   ]
  },
  {
   "cell_type": "code",
   "execution_count": 57,
   "metadata": {
    "collapsed": false
   },
   "outputs": [
    {
     "name": "stdout",
     "output_type": "stream",
     "text": [
      "0.7439\n"
     ]
    }
   ],
   "source": [
    "from sklearn.metrics import accuracy_score\n",
    "print accuracy_score(pred, test.sentiment)"
   ]
  },
  {
   "cell_type": "code",
   "execution_count": null,
   "metadata": {
    "collapsed": true
   },
   "outputs": [],
   "source": []
  }
 ],
 "metadata": {
  "kernelspec": {
   "display_name": "Python 2",
   "language": "python",
   "name": "python2"
  },
  "language_info": {
   "codemirror_mode": {
    "name": "ipython",
    "version": 2
   },
   "file_extension": ".py",
   "mimetype": "text/x-python",
   "name": "python",
   "nbconvert_exporter": "python",
   "pygments_lexer": "ipython2",
   "version": "2.7.11"
  }
 },
 "nbformat": 4,
 "nbformat_minor": 0
}
